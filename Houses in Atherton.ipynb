{
 "cells": [
  {
   "cell_type": "code",
   "execution_count": 112,
   "metadata": {
    "collapsed": true
   },
   "outputs": [],
   "source": [
    "#This is after first Andrew Ng lesson, (October 22, 2017)\n",
    "\n",
    "import numpy as np"
   ]
  },
  {
   "cell_type": "code",
   "execution_count": 113,
   "metadata": {
    "collapsed": true
   },
   "outputs": [],
   "source": [
    "#Houses in Atherton\n",
    "\n",
    "# sq feet, bedrooms, bathrooms, lot size, age\n",
    "x = [[1, 6660/10000, 5/10, 3.5/10, 1.15/10, (2017-2000)/100],\n",
    "     [1, 8095/10000, 6/10, 6/10, 1.03/10, (2017-2013)/100],\n",
    "     [1, 1970/10000, 3/10, 2/10, 1.06/10, (2017-1951)/100],\n",
    "     [1, 2800/10000, 3/10, 2.5/10, 1.01/10, (2017-1958)/100],\n",
    "     [1, 4675/10000, 5/10, 4/10, 1.06/10, (2017-1988)/100],\n",
    "     [1, 8700/10000, 8/10, 7/10, 2.47/10, (2017-1946)/100],\n",
    "     [1, 4415/10000, 5/10, 4.5/10, 1.18/10, (2017-1961)/100],\n",
    "     [1, 3224/10000, 5/10, 4/10, 1.17/10, (2017-1958)/100],\n",
    "     [1, 10000/10000, 8/10, 6.5/10, 1.13/10, (2017-2010)/100]]\n",
    "#x = [[1, 0, 0, 0], [0, 1, 0, 0], [0, 0, 1, 0], [0, 0, 0, 1], [0, 0, 0, 0], [0, 1, 1, 0], [1, 1, 0, 0], [0, 0, 1, 1]]\n",
    "y = [.9946735, .9592908, .3682425, .4694628, .6891746, 1.0531021, .5751557, .5892001, 1.0810086]\n",
    "#y = [1, 1, 1, 1, 0, 1, 1, 1]\n",
    "\n",
    "#x = digits.images.reshape((len(digits.images), -1))/100\n",
    "#y = digits.target/10\n",
    "m = len(x)"
   ]
  },
  {
   "cell_type": "code",
   "execution_count": 114,
   "metadata": {},
   "outputs": [
    {
     "data": {
      "text/plain": [
       "[[1, 0.666, 0.5, 0.35, 0.11499999999999999, 0.17],\n",
       " [1, 0.8095, 0.6, 0.6, 0.10300000000000001, 0.04],\n",
       " [1, 0.197, 0.3, 0.2, 0.10600000000000001, 0.66],\n",
       " [1, 0.28, 0.3, 0.25, 0.101, 0.59],\n",
       " [1, 0.4675, 0.5, 0.4, 0.10600000000000001, 0.29],\n",
       " [1, 0.87, 0.8, 0.7, 0.24700000000000003, 0.71],\n",
       " [1, 0.4415, 0.5, 0.45, 0.118, 0.56],\n",
       " [1, 0.3224, 0.5, 0.4, 0.11699999999999999, 0.59],\n",
       " [1, 1.0, 0.8, 0.65, 0.11299999999999999, 0.07]]"
      ]
     },
     "execution_count": 114,
     "metadata": {},
     "output_type": "execute_result"
    }
   ],
   "source": [
    "x"
   ]
  },
  {
   "cell_type": "code",
   "execution_count": 115,
   "metadata": {},
   "outputs": [
    {
     "data": {
      "text/plain": [
       "[0.9946735,\n",
       " 0.9592908,\n",
       " 0.3682425,\n",
       " 0.4694628,\n",
       " 0.6891746,\n",
       " 1.0531021,\n",
       " 0.5751557,\n",
       " 0.5892001,\n",
       " 1.0810086]"
      ]
     },
     "execution_count": 115,
     "metadata": {},
     "output_type": "execute_result"
    }
   ],
   "source": [
    "y"
   ]
  },
  {
   "cell_type": "code",
   "execution_count": 102,
   "metadata": {
    "collapsed": true
   },
   "outputs": [],
   "source": [
    "#Random numbers, (-1, 1)\n",
    "theta = 2*np.random.random((1, len(x[0]))) - 1\n",
    "n = len(theta[0])"
   ]
  },
  {
   "cell_type": "code",
   "execution_count": 103,
   "metadata": {},
   "outputs": [
    {
     "name": "stdout",
     "output_type": "stream",
     "text": [
      "[[ 0.48305827  0.006622    0.69492741 -0.11662463  0.62374346  0.34512164]]\n"
     ]
    }
   ],
   "source": [
    "print(theta)"
   ]
  },
  {
   "cell_type": "code",
   "execution_count": 104,
   "metadata": {
    "collapsed": true
   },
   "outputs": [],
   "source": [
    "def h(l):\n",
    "    return theta.dot(l)[0]"
   ]
  },
  {
   "cell_type": "code",
   "execution_count": 105,
   "metadata": {},
   "outputs": [
    {
     "data": {
      "text/plain": [
       "0.92451478884835891"
      ]
     },
     "execution_count": 105,
     "metadata": {},
     "output_type": "execute_result"
    }
   ],
   "source": [
    "h(x[0])"
   ]
  },
  {
   "cell_type": "code",
   "execution_count": 106,
   "metadata": {},
   "outputs": [
    {
     "name": "stdout",
     "output_type": "stream",
     "text": [
      "Error: -7.08413064253e-06\n",
      "Error: -1.58254340441e-05\n",
      "Error: -1.6735731392e-05\n",
      "Error: -1.58360408258e-05\n",
      "Error: -1.45995845147e-05\n",
      "Error: -1.33757187381e-05\n",
      "Error: -1.223897697e-05\n",
      "Error: -1.11982691366e-05\n",
      "Error: -1.02479675989e-05\n",
      "Error: -9.38008061298e-06\n",
      "Error: -8.58695072157e-06\n",
      "Error: -7.86171123613e-06\n",
      "Error: -7.19825484492e-06\n",
      "Error: -6.59112486763e-06\n",
      "Error: -6.03541561336e-06\n",
      "Error: -5.52669358506e-06\n",
      "Error: -5.06093626288e-06\n",
      "Error: -4.63448371481e-06\n",
      "Error: -4.2439993054e-06\n",
      "Error: -3.88643693136e-06\n",
      "Error: -3.5590130559e-06\n",
      "Error: -3.25918238742e-06\n",
      "Error: -2.98461642264e-06\n",
      "Error: -2.73318430484e-06\n",
      "Error: -2.50293562603e-06\n",
      "Error: -2.2920848733e-06\n",
      "Error: -2.09899732236e-06\n",
      "Error: -1.92217619381e-06\n",
      "Error: -1.76025094697e-06\n",
      "Error: -1.61196658874e-06\n",
      "Error: -1.47617390709e-06\n",
      "Error: -1.35182053697e-06\n",
      "Error: -1.23794278817e-06\n",
      "Error: -1.13365816693e-06\n",
      "Error: -1.03815853014e-06\n",
      "Error: -9.50703819293e-07\n",
      "Error: -8.706163214e-07\n",
      "Error: -7.97275417056e-07\n",
      "Error: -7.30112769767e-07\n",
      "Error: -6.68607919671e-07\n",
      "Error: -6.12284252367e-07\n",
      "Error: -5.60705302972e-07\n",
      "Error: -5.13471375295e-07\n",
      "Error: -4.70216443498e-07\n",
      "Error: -4.30605316034e-07\n",
      "Error: -3.94331038168e-07\n",
      "Error: -3.61112512861e-07\n",
      "Error: -3.30692322445e-07\n",
      "Error: -3.02834735344e-07\n",
      "Error: -2.77323876641e-07\n",
      "Error: -2.53962058068e-07\n",
      "Error: -2.32568243614e-07\n",
      "Error: -2.12976648354e-07\n",
      "Error: -1.95035452874e-07\n",
      "Error: -1.78605627535e-07\n",
      "Error: -1.6355985379e-07\n",
      "Error: -1.49781539159e-07\n",
      "Error: -1.37163912389e-07\n",
      "Error: -1.25609196957e-07\n",
      "Error: -1.15027853249e-07\n",
      "Error: -1.05337883965e-07\n",
      "Error: -9.64641996282e-08\n",
      "Error: -8.83380362378e-08\n",
      "Error: -8.08964223633e-08\n",
      "Error: -7.40816915096e-08\n",
      "Error: -6.78410351538e-08\n",
      "Error: -6.21260927949e-08\n",
      "Error: -5.68925783336e-08\n",
      "Error: -5.20999361307e-08\n",
      "Error: -4.77110273511e-08\n",
      "Error: -4.3691840664e-08\n",
      "Error: -4.00112314206e-08\n",
      "Error: -3.66406773687e-08\n",
      "Error: -3.35540592718e-08\n",
      "Error: -3.07274586454e-08\n",
      "Error: -2.81389714986e-08\n",
      "Error: -2.57685388274e-08\n",
      "Error: -2.35977920661e-08\n",
      "Error: -2.16099091954e-08\n",
      "Error: -1.97894861979e-08\n",
      "Error: -1.81224159938e-08\n",
      "Error: -1.65957801637e-08\n",
      "Error: -1.51977483252e-08\n",
      "Error: -1.39174868235e-08\n",
      "Error: -1.27450751187e-08\n",
      "Error: -1.16714273555e-08\n",
      "Error: -1.06882239232e-08\n",
      "Error: -9.78784580546e-09\n",
      "Error: -8.96331580563e-09\n",
      "Error: -8.20824436815e-09\n",
      "Error: -7.51678006259e-09\n",
      "Error: -6.88356508214e-09\n",
      "Error: -6.30369219169e-09\n",
      "Error: -5.77266788692e-09\n",
      "Error: -5.28637731121e-09\n",
      "Error: -4.84105168915e-09\n",
      "Error: -4.43324063879e-09\n",
      "Error: -4.05978358955e-09\n",
      "Error: -3.71778654775e-09\n",
      "Error: -3.40459942954e-09\n",
      "Error: -3.11779523186e-09\n",
      "Error: -2.85515168915e-09\n",
      "Error: -2.61463305944e-09\n",
      "Error: -2.39437561753e-09\n",
      "Error: -2.19267317883e-09\n",
      "Error: -2.00796192019e-09\n",
      "Error: -1.83881080732e-09\n",
      "Error: -1.68390898756e-09\n",
      "Error: -1.54205633448e-09\n",
      "Error: -1.41215288228e-09\n",
      "Error: -1.29319293545e-09\n",
      "Error: -1.18425417004e-09\n",
      "Error: -1.08449247113e-09\n",
      "Error: -9.93134549907e-10\n",
      "Error: -9.09472713189e-10\n",
      "Error: -8.32858584568e-10\n",
      "Error: -7.62698237899e-10\n",
      "Error: -6.98448459562e-10\n",
      "Error: -6.39611055478e-10\n",
      "Error: -5.85730063217e-10\n",
      "Error: -5.36387915565e-10\n",
      "Error: -4.91202479925e-10\n",
      "Error: -4.49823573451e-10\n",
      "Error: -4.11930520558e-10\n",
      "Error: -3.77229580906e-10\n",
      "Error: -3.45451395884e-10\n",
      "Error: -3.16350674052e-10\n",
      "Error: -2.89701114949e-10\n",
      "Error: -2.65296648847e-10\n",
      "Error: -2.42947822354e-10\n",
      "Error: -2.22481940278e-10\n",
      "Error: -2.03740098866e-10\n",
      "Error: -1.86576957587e-10\n",
      "Error: -1.70859635082e-10\n",
      "Error: -1.56466432403e-10\n",
      "Error: -1.43285778304e-10\n",
      "Error: -1.31215476756e-10\n",
      "Error: -1.20161399349e-10\n",
      "Error: -1.10039317164e-10\n",
      "Error: -1.00769448341e-10\n",
      "Error: -9.2280553569e-11\n",
      "Error: -8.45069199803e-11\n",
      "Error: -7.7387997245e-11\n",
      "Error: -7.08690081927e-11\n",
      "Error: -6.48987838778e-11\n",
      "Error: -5.94316201191e-11\n",
      "Error: -5.44253161057e-11\n",
      "Error: -4.9840421913e-11\n",
      "Error: -4.56418606613e-11\n",
      "Error: -4.17968499317e-11\n",
      "Error: -3.82760860044e-11\n",
      "Error: -3.50516282666e-11\n",
      "Error: -3.20989654609e-11\n",
      "Error: -2.9394721225e-11\n",
      "Error: -2.69186216527e-11\n",
      "Error: -2.4650984957e-11\n",
      "Error: -2.25744793229e-11\n",
      "Error: -2.06726796175e-11\n",
      "Error: -1.8931387322e-11\n",
      "Error: -1.73364532606e-11\n",
      "Error: -1.5875868521e-11\n",
      "Error: -1.45387529176e-11\n",
      "Error: -1.33139672127e-11\n",
      "Error: -1.21924877602e-11\n",
      "Error: -1.11651737238e-11\n",
      "Error: -1.02248456615e-11\n",
      "Error: -9.36350996739e-12\n",
      "Error: -8.57461632562e-12\n",
      "Error: -7.85219420349e-12\n",
      "Error: -7.19096387374e-12\n",
      "Error: -6.58507199386e-12\n",
      "Error: -6.03029971637e-12\n",
      "Error: -5.52241585794e-12\n",
      "Error: -5.05718306738e-12\n",
      "Error: -4.63123366817e-12\n",
      "Error: -4.24106428988e-12\n",
      "Error: -3.88385003171e-12\n",
      "Error: -3.5563959185e-12\n",
      "Error: -3.25711679849e-12\n",
      "Error: -2.98257098032e-12\n",
      "Error: -2.73141386052e-12\n",
      "Error: -2.50152984746e-12\n",
      "Error: -2.29035309237e-12\n",
      "Error: -2.09765538273e-12\n",
      "Error: -1.92078451909e-12\n",
      "Error: -1.75893250582e-12\n",
      "Error: -1.61080408271e-12\n",
      "Error: -1.4753445379e-12\n",
      "Error: -1.35067266014e-12\n",
      "Error: -1.23711534843e-12\n",
      "Error: -1.13307511522e-12\n",
      "Error: -1.0373862263e-12\n",
      "Error: -9.50079521229e-13\n",
      "Error: -8.69902915134e-13\n",
      "Error: -7.9655418064e-13\n",
      "Error: -7.29650907595e-13\n",
      "Error: -6.68212398993e-13\n",
      "Error: -6.1197343489e-13\n",
      "Error: -5.60317224717e-13\n",
      "Error: -5.13391798209e-13\n",
      "Error: -4.70265801608e-13\n",
      "Error: -4.30205254137e-13\n",
      "Error: -3.94153845365e-13\n",
      "Error: -3.60655949549e-13\n",
      "Error: -3.30420875846e-13\n",
      "Error: -3.02054677566e-13\n",
      "Error: -2.77037652078e-13\n",
      "Error: -2.53599610447e-13\n",
      "Error: -2.32597891565e-13\n",
      "Error: -2.12681724084e-13\n",
      "Error: -1.94911987784e-13\n",
      "Error: -1.7839433634e-13\n",
      "Error: -1.62974572109e-13\n",
      "Error: -1.49337332623e-13\n",
      "Error: -1.3710020773e-13\n",
      "Error: -1.25862283558e-13\n",
      "Error: -1.15383011787e-13\n",
      "Error: -1.04946915356e-13\n",
      "Error: -9.64845487456e-14\n",
      "Error: -8.81640439666e-14\n",
      "Error: -8.07317176073e-14\n",
      "Error: -7.45699798207e-14\n",
      "Error: -6.80011602583e-14\n",
      "Error: -6.18455903773e-14\n",
      "Error: -5.71024708999e-14\n",
      "Error: -5.1606866928e-14\n",
      "Error: -4.80726569663e-14\n",
      "Error: -4.3847641567e-14\n",
      "Error: -3.99865326036e-14\n",
      "Error: -3.67237104923e-14\n",
      "Error: -3.37754515714e-14\n",
      "Error: -3.05373010829e-14\n"
     ]
    }
   ],
   "source": [
    "alpha = 0.05\n",
    "last_error = 0\n",
    "error = 100\n",
    "index = 0\n",
    "while last_error != error:\n",
    "    index = index + 1\n",
    "    last_error = error\n",
    "    temps = np.random.random((1, len(theta[0])))*0\n",
    "    for b in range(m):\n",
    "        error = (h(x[b]) - y[b])\n",
    "        for t in range(len(temps[0])):\n",
    "            temps[0][t] += error*x[b][t]\n",
    "    temps = temps*(alpha/m)\n",
    "    for t in range(len(temps[0])):\n",
    "        theta[0][t] -= temps[0][t]\n",
    "    if index % 10000 == 0:\n",
    "        nE = 0\n",
    "        for p in range(m):\n",
    "            nE += (h(x[p]) - y[p])\n",
    "        print(\"Error: \" + str(nE/m))"
   ]
  },
  {
   "cell_type": "code",
   "execution_count": 10,
   "metadata": {},
   "outputs": [
    {
     "name": "stdout",
     "output_type": "stream",
     "text": [
      "\n",
      "Guess: 0.9946735\n",
      "Actual: 0.9946735\n",
      "\n",
      "Guess: 0.9592908\n",
      "Actual: 0.9592908\n",
      "\n",
      "Guess: 0.368242500003\n",
      "Actual: 0.3682425\n",
      "\n",
      "Guess: 0.469462799997\n",
      "Actual: 0.4694628\n"
     ]
    }
   ],
   "source": [
    "for i in range(m):\n",
    "    print(\"\")\n",
    "    print(\"Guess: \" + str(h(x[i])))\n",
    "    print(\"Actual: \" + str(y[i]))"
   ]
  },
  {
   "cell_type": "code",
   "execution_count": 108,
   "metadata": {},
   "outputs": [],
   "source": [
    "# $6,891,746\n",
    "#h([1, 8700/10000, 8/10, 7/10, 2.47/10, (2017-1946)/100])*10000000"
   ]
  },
  {
   "cell_type": "code",
   "execution_count": 109,
   "metadata": {},
   "outputs": [
    {
     "data": {
      "text/plain": [
       "array([[ 0.40017685,  0.35808401,  0.43360192, -0.52705456,  3.38752389,\n",
       "        -0.65745233]])"
      ]
     },
     "execution_count": 109,
     "metadata": {},
     "output_type": "execute_result"
    }
   ],
   "source": [
    "#array([[ 1.36966098,  0.84523262, -0.70863848, -0.92528644, -0.6994236 ,\n",
    "#        -1.05475995]])\n",
    "theta"
   ]
  },
  {
   "cell_type": "code",
   "execution_count": 110,
   "metadata": {},
   "outputs": [
    {
     "data": {
      "text/plain": [
       "0.94005530005905413"
      ]
     },
     "execution_count": 110,
     "metadata": {},
     "output_type": "execute_result"
    }
   ],
   "source": [
    "h([1, 8370/10000, 4/10, 4.5/10, 1.13/10, (2017-2005)/100])"
   ]
  },
  {
   "cell_type": "code",
   "execution_count": null,
   "metadata": {
    "collapsed": true
   },
   "outputs": [],
   "source": []
  }
 ],
 "metadata": {
  "kernelspec": {
   "display_name": "Python 3",
   "language": "python",
   "name": "python3"
  },
  "language_info": {
   "codemirror_mode": {
    "name": "ipython",
    "version": 3
   },
   "file_extension": ".py",
   "mimetype": "text/x-python",
   "name": "python",
   "nbconvert_exporter": "python",
   "pygments_lexer": "ipython3",
   "version": "3.6.2"
  }
 },
 "nbformat": 4,
 "nbformat_minor": 2
}
