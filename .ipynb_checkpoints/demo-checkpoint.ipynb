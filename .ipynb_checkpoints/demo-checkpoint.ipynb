{
 "cells": [
  {
   "cell_type": "code",
   "execution_count": 8,
   "metadata": {
    "collapsed": true
   },
   "outputs": [],
   "source": [
    "import numpy as np"
   ]
  },
  {
   "cell_type": "code",
   "execution_count": 12,
   "metadata": {},
   "outputs": [],
   "source": [
    "# Step 1 Collect Data\n",
    "x = np.array([[0,0,1],\n",
    "            [0,1,1],\n",
    "            [1,0,1],\n",
    "            [1,1,1]])\n",
    "                \n",
    "y = np.array([[0],\n",
    "            [1],\n",
    "            [1],\n",
    "            [0]])\n"
   ]
  },
  {
   "cell_type": "code",
   "execution_count": 15,
   "metadata": {},
   "outputs": [
    {
     "name": "stdout",
     "output_type": "stream",
     "text": [
      "[[0 0 1]\n",
      " [0 1 1]\n",
      " [1 0 1]\n",
      " [1 1 1]]\n"
     ]
    }
   ],
   "source": [
    "print (x)"
   ]
  },
  {
   "cell_type": "code",
   "execution_count": 14,
   "metadata": {},
   "outputs": [
    {
     "name": "stdout",
     "output_type": "stream",
     "text": [
      "[[0]\n",
      " [1]\n",
      " [1]\n",
      " [0]]\n"
     ]
    }
   ],
   "source": [
    "print (y)"
   ]
  },
  {
   "cell_type": "code",
   "execution_count": 22,
   "metadata": {
    "collapsed": true
   },
   "outputs": [],
   "source": [
    "#Step 2 build model\n",
    "\n",
    "num_epochs = 600000\n",
    "\n",
    "#initialize weights\n",
    "syn0 = 2*np.random.random((3,4)) - 1\n",
    "syn1 = 2*np.random.random((4,1)) - 1"
   ]
  },
  {
   "cell_type": "code",
   "execution_count": 18,
   "metadata": {},
   "outputs": [
    {
     "name": "stdout",
     "output_type": "stream",
     "text": [
      "[[ 0.61458157  0.242888    0.6893555   0.73028216]\n",
      " [-0.75578368 -0.65332057 -0.96671655 -0.37733797]\n",
      " [ 0.01812992  0.95807238 -0.29521749 -0.90412065]]\n"
     ]
    }
   ],
   "source": [
    "print (syn0)"
   ]
  },
  {
   "cell_type": "code",
   "execution_count": 19,
   "metadata": {},
   "outputs": [
    {
     "name": "stdout",
     "output_type": "stream",
     "text": [
      "[[-0.67556267]\n",
      " [ 0.97758495]\n",
      " [-0.67076242]\n",
      " [ 0.71154632]]\n"
     ]
    }
   ],
   "source": [
    "print (syn1)"
   ]
  },
  {
   "cell_type": "code",
   "execution_count": 20,
   "metadata": {
    "collapsed": true
   },
   "outputs": [],
   "source": [
    "def nonlin(x,deriv=False):\n",
    "    if(deriv==True):\n",
    "        return x*(1-x)\n",
    "\n",
    "    return 1/(1+np.exp(-x))"
   ]
  },
  {
   "cell_type": "code",
   "execution_count": 23,
   "metadata": {},
   "outputs": [
    {
     "name": "stdout",
     "output_type": "stream",
     "text": [
      "Error:0.499055592872\n",
      "Error:0.0111352266435\n",
      "Error:0.00771433309138\n",
      "Error:0.00624335383107\n",
      "Error:0.00537855426122\n",
      "Error:0.00479339621561\n",
      "Error:0.00436401047454\n",
      "Error:0.0040317773772\n",
      "Error:0.00376491134453\n",
      "Error:0.00354449470301\n",
      "Error:0.00335847523415\n",
      "Error:0.00319876439628\n",
      "Error:0.00305970574805\n",
      "Error:0.00293720940154\n",
      "Error:0.00282823530887\n",
      "Error:0.00273047059035\n",
      "Error:0.00264212029991\n",
      "Error:0.0025617673348\n",
      "Error:0.00248827601969\n",
      "Error:0.00242072413945\n",
      "Error:0.0023583540069\n",
      "Error:0.00230053657179\n",
      "Error:0.00224674465383\n",
      "Error:0.00219653268036\n",
      "Error:0.00214952113985\n",
      "Error:0.00210538450704\n",
      "Error:0.0020638417596\n",
      "Error:0.00202464885361\n",
      "Error:0.0019875926973\n",
      "Error:0.00195248628268\n",
      "Error:0.00191916472127\n",
      "Error:0.00188748199185\n",
      "Error:0.001857308254\n",
      "Error:0.00182852761464\n",
      "Error:0.00180103626013\n",
      "Error:0.00177474088504\n",
      "Error:0.00174955736376\n",
      "Error:0.00172540962157\n",
      "Error:0.00170222867088\n",
      "Error:0.00167995178481\n",
      "Error:0.00165852178545\n",
      "Error:0.00163788642864\n",
      "Error:0.00161799787003\n",
      "Error:0.0015988122001\n",
      "Error:0.00158028903783\n",
      "Error:0.00156239117452\n",
      "Error:0.00154508426055\n",
      "Error:0.00152833652911\n",
      "Error:0.00151211855188\n",
      "Error:0.00149640302239\n",
      "Error:0.00148116456334\n",
      "Error:0.00146637955494\n",
      "Error:0.00145202598153\n",
      "Error:0.00143808329422\n",
      "Error:0.00142453228767\n",
      "Error:0.00141135498925\n",
      "Error:0.00139853455923\n",
      "Error:0.00138605520059\n",
      "Error:0.00137390207749\n",
      "Error:0.00136206124143\n"
     ]
    }
   ],
   "source": [
    "#Step 3 Train Model\n",
    "\n",
    "for j in range(num_epochs):\n",
    "    #feed forward through layers 0,1, and 2\n",
    "    k0 = x\n",
    "    k1 = nonlin(np.dot(k0, syn0))\n",
    "    k2 = nonlin(np.dot(k1, syn1))\n",
    "    \n",
    "    #how much did we miss the target value?\n",
    "    k2_error = y - k2\n",
    "    \n",
    "    if (j% 10000) == 0:\n",
    "        print (\"Error:\" + str(np.mean(np.abs(k2_error))))\n",
    "    \n",
    "    #in what direction is the target value?\n",
    "    k2_delta = k2_error*nonlin(k2, deriv=True)\n",
    "    \n",
    "    #how much did each k1 value contribute to k2 error\n",
    "    k1_error = k2_delta.dot(syn1.T)\n",
    "    \n",
    "    k1_delta= k1_error * nonlin(k1,deriv=True)\n",
    "    \n",
    "    syn1 += k1.T.dot(k2_delta)\n",
    "    syn0 += k0.T.dot(k1_delta)"
   ]
  },
  {
   "cell_type": "code",
   "execution_count": null,
   "metadata": {
    "collapsed": true
   },
   "outputs": [],
   "source": []
  }
 ],
 "metadata": {
  "kernelspec": {
   "display_name": "Python 3",
   "language": "python",
   "name": "python3"
  },
  "language_info": {
   "codemirror_mode": {
    "name": "ipython",
    "version": 3
   },
   "file_extension": ".py",
   "mimetype": "text/x-python",
   "name": "python",
   "nbconvert_exporter": "python",
   "pygments_lexer": "ipython3",
   "version": "3.6.2"
  }
 },
 "nbformat": 4,
 "nbformat_minor": 2
}
